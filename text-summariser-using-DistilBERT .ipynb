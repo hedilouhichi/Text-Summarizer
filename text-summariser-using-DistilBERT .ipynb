{
 "metadata": {
  "kernelspec": {
   "language": "python",
   "display_name": "Python 3",
   "name": "python3"
  },
  "language_info": {
   "name": "python",
   "version": "3.10.13",
   "mimetype": "text/x-python",
   "codemirror_mode": {
    "name": "ipython",
    "version": 3
   },
   "pygments_lexer": "ipython3",
   "nbconvert_exporter": "python",
   "file_extension": ".py"
  },
  "kaggle": {
   "accelerator": "none",
   "dataSources": [],
   "dockerImageVersionId": 30698,
   "isInternetEnabled": true,
   "language": "python",
   "sourceType": "notebook",
   "isGpuEnabled": false
  }
 },
 "nbformat_minor": 4,
 "nbformat": 4,
 "cells": [
  {
   "cell_type": "code",
   "source": [
    "text = \"The tower is 324 metres (1,063 ft) tall, about the same height as an 81-storey building, and the tallest structure in Paris. Its base is square, measuring 125 metres (410 ft) on each side. During its construction, the Eiffel Tower surpassed the Washington Monument to become the tallest man-made structure in the world, a title it held for 41 years until the Chrysler Building in New York City was finished in 1930. It was the first structure to reach a height of 300 metres. Due to the addition of a broadcasting aerial at the top of the tower in 1957, it is now taller than the Chrysler Building by 5.2 metres (17 ft). Excluding transmitters, the Eiffel Tower is the second tallest free-standing structure in France after the Millau Viaduct.\"\n"
   ],
   "metadata": {
    "execution": {
     "iopub.status.busy": "2024-05-13T16:34:17.379652Z",
     "iopub.execute_input": "2024-05-13T16:34:17.380057Z",
     "iopub.status.idle": "2024-05-13T16:34:17.386010Z",
     "shell.execute_reply.started": "2024-05-13T16:34:17.380030Z",
     "shell.execute_reply": "2024-05-13T16:34:17.384802Z"
    },
    "trusted": true
   },
   "execution_count": 18,
   "outputs": []
  },
  {
   "cell_type": "code",
   "source": [
    "from transformers import BertTokenizerFast, EncoderDecoderModel\n",
    "import torch\n",
    "device = torch.device('cuda' if torch.cuda.is_available() else 'cpu')\n",
    "tokenizer = BertTokenizerFast.from_pretrained('mrm8488/bert-mini2bert-mini-finetuned-cnn_daily_mail-summarization')\n",
    "model = EncoderDecoderModel.from_pretrained('mrm8488/bert-mini2bert-mini-finetuned-cnn_daily_mail-summarization').to(device)\n",
    "\n",
    "def generate_summary(text):\n",
    "    # cut off at BERT max length 512\n",
    "    inputs = tokenizer([text], padding=\"max_length\", truncation=True, max_length=512, return_tensors=\"pt\")\n",
    "    input_ids = inputs.input_ids.to(device)\n",
    "    attention_mask = inputs.attention_mask.to(device)\n",
    "\n",
    "    output = model.generate(input_ids, attention_mask=attention_mask)\n",
    "\n",
    "    return tokenizer.decode(output[0], skip_special_tokens=True)\n",
    "  \n",
    "generate_summary(text)"
   ],
   "metadata": {
    "execution": {
     "iopub.status.busy": "2024-05-13T16:34:18.221482Z",
     "iopub.execute_input": "2024-05-13T16:34:18.222632Z",
     "iopub.status.idle": "2024-05-13T16:34:20.699059Z",
     "shell.execute_reply.started": "2024-05-13T16:34:18.222594Z",
     "shell.execute_reply": "2024-05-13T16:34:20.697687Z"
    },
    "trusted": true
   },
   "execution_count": 19,
   "outputs": [
    {
     "execution_count": 19,
     "output_type": "execute_result",
     "data": {
      "text/plain": "'the eiffel tower surpassed the washington monument to become the tallest man - made structure in paris. it was the first structure to reach a height of 300 metres ( 410 ft ) it is the second tallest free - standing structure in france. it is now taller than the chrysler building by 5. 2 metres ( 17 ft )'"
     },
     "metadata": {}
    }
   ]
  },
  {
   "cell_type": "code",
   "source": [
    "with open('summary.txt', 'w') as file:\n",
    "    file.write(generate_summary(text))"
   ],
   "metadata": {
    "execution": {
     "iopub.status.busy": "2024-05-13T16:37:09.607226Z",
     "iopub.execute_input": "2024-05-13T16:37:09.607808Z",
     "iopub.status.idle": "2024-05-13T16:37:09.614231Z",
     "shell.execute_reply.started": "2024-05-13T16:37:09.607765Z",
     "shell.execute_reply": "2024-05-13T16:37:09.613132Z"
    },
    "trusted": true
   },
   "execution_count": 23,
   "outputs": []
  }
 ]
}
